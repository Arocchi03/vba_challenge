{
 "cells": [
  {
   "cell_type": "markdown",
   "metadata": {
    "slideshow": {
     "slide_type": "slide"
    }
   },
   "source": [
    "# Logistic Regression\n",
    "\n",
    "Logistic Regression is a statistical method for predicting binary outcomes from data.\n",
    "\n",
    "Examples of this are \"yes\" vs \"no\" or \"young\" vs \"old\". \n",
    "\n",
    "These are categories that translate to probability of being a 0 or a 1.\n",
    "\n",
    "Source: [Logistic Regression](https://towardsdatascience.com/real-world-implementation-of-logistic-regression-5136cefb8125)"
   ]
  },
  {
   "cell_type": "markdown",
   "metadata": {
    "slideshow": {
     "slide_type": "subslide"
    }
   },
   "source": [
    "We can calculate logistic regression by adding an activation function as the final step to our linear model. \n",
    "\n",
    "This converts the linear regression output to a probability."
   ]
  },
  {
   "cell_type": "code",
   "execution_count": 1,
   "metadata": {
<<<<<<< HEAD
    "collapsed": true,
=======
>>>>>>> 30ccfe63d468f39b78d6edfcd3e1345c71f295f3
    "slideshow": {
     "slide_type": "subslide"
    }
   },
   "outputs": [],
   "source": [
    "%matplotlib inline\n",
    "import matplotlib.pyplot as plt\n",
    "import pandas as pd"
   ]
  },
  {
   "cell_type": "markdown",
   "metadata": {
    "slideshow": {
     "slide_type": "subslide"
    }
   },
   "source": [
    "Generate some data"
   ]
  },
  {
   "cell_type": "code",
   "execution_count": 2,
   "metadata": {
    "slideshow": {
     "slide_type": "fragment"
    }
   },
   "outputs": [
    {
<<<<<<< HEAD
     "output_type": "stream",
     "name": "stdout",
     "text": "Labels: [0 1 0 1 1 0 1 1 0 0]\nData: [[-2.98837186  8.82862715]\n [ 5.72293008  3.02697174]\n [-3.05358035  9.12520872]\n [ 5.461939    3.86996267]\n [ 4.86733877  3.28031244]\n [-2.14780202 10.55232269]\n [ 4.91656964  2.80035293]\n [ 3.08921541  2.04173266]\n [-2.90130578  7.55077118]\n [-3.34841515  8.70507375]]\n"
=======
     "name": "stdout",
     "output_type": "stream",
     "text": [
      "Labels: [0 1 0 1 1 0 1 1 0 0]\n",
      "Data: [[-2.98837186  8.82862715]\n",
      " [ 5.72293008  3.02697174]\n",
      " [-3.05358035  9.12520872]\n",
      " [ 5.461939    3.86996267]\n",
      " [ 4.86733877  3.28031244]\n",
      " [-2.14780202 10.55232269]\n",
      " [ 4.91656964  2.80035293]\n",
      " [ 3.08921541  2.04173266]\n",
      " [-2.90130578  7.55077118]\n",
      " [-3.34841515  8.70507375]]\n"
     ]
>>>>>>> 30ccfe63d468f39b78d6edfcd3e1345c71f295f3
    }
   ],
   "source": [
    "from sklearn.datasets import make_blobs\n",
    "\n",
    "X, y = make_blobs(centers=2, random_state=42)\n",
    "\n",
    "print(f\"Labels: {y[:10]}\")\n",
    "print(f\"Data: {X[:10]}\")"
   ]
  },
  {
   "cell_type": "code",
   "execution_count": 3,
   "metadata": {
    "slideshow": {
     "slide_type": "subslide"
    }
   },
   "outputs": [
    {
<<<<<<< HEAD
     "output_type": "execute_result",
     "data": {
      "text/plain": "<matplotlib.collections.PathCollection at 0x1a25ff64d0>"
     },
     "metadata": {},
     "execution_count": 3
    },
    {
     "output_type": "display_data",
     "data": {
      "text/plain": "<Figure size 432x288 with 1 Axes>",
      "image/svg+xml": "<?xml version=\"1.0\" encoding=\"utf-8\" standalone=\"no\"?>\n<!DOCTYPE svg PUBLIC \"-//W3C//DTD SVG 1.1//EN\"\n  \"http://www.w3.org/Graphics/SVG/1.1/DTD/svg11.dtd\">\n<!-- Created with matplotlib (https://matplotlib.org/) -->\n<svg height=\"248.518125pt\" version=\"1.1\" viewBox=\"0 0 368.925 248.518125\" width=\"368.925pt\" xmlns=\"http://www.w3.org/2000/svg\" xmlns:xlink=\"http://www.w3.org/1999/xlink\">\n <defs>\n  <style type=\"text/css\">\n*{stroke-linecap:butt;stroke-linejoin:round;}\n  </style>\n </defs>\n <g id=\"figure_1\">\n  <g id=\"patch_1\">\n   <path d=\"M -0 248.518125 \nL 368.925 248.518125 \nL 368.925 0 \nL -0 0 \nz\n\" style=\"fill:none;\"/>\n  </g>\n  <g id=\"axes_1\">\n   <g id=\"patch_2\">\n    <path d=\"M 26.925 224.64 \nL 361.725 224.64 \nL 361.725 7.2 \nL 26.925 7.2 \nz\n\" style=\"fill:#ffffff;\"/>\n   </g>\n   <g id=\"PathCollection_1\">\n    <defs>\n     <path d=\"M 0 3 \nC 0.795609 3 1.55874 2.683901 2.12132 2.12132 \nC 2.683901 1.55874 3 0.795609 3 0 \nC 3 -0.795609 2.683901 -1.55874 2.12132 -2.12132 \nC 1.55874 -2.683901 0.795609 -3 0 -3 \nC -0.795609 -3 -1.55874 -2.683901 -2.12132 -2.12132 \nC -2.683901 -1.55874 -3 -0.795609 -3 0 \nC -3 0.795609 -2.683901 1.55874 -2.12132 2.12132 \nC -1.55874 2.683901 -0.795609 3 0 3 \nz\n\" id=\"C0_0_0621b6a7b1\"/>\n    </defs>\n    <g clip-path=\"url(#p1ccd39d5a4)\">\n     <use style=\"fill:#440154;stroke:#440154;\" x=\"98.190745\" xlink:href=\"#C0_0_0621b6a7b1\" y=\"55.947018\"/>\n    </g>\n    <g clip-path=\"url(#p1ccd39d5a4)\">\n     <use style=\"fill:#fde725;stroke:#fde725;\" x=\"325.33199\" xlink:href=\"#C0_0_0621b6a7b1\" y=\"165.840379\"/>\n    </g>\n    <g clip-path=\"url(#p1ccd39d5a4)\">\n     <use style=\"fill:#440154;stroke:#440154;\" x=\"96.490478\" xlink:href=\"#C0_0_0621b6a7b1\" y=\"50.329252\"/>\n    </g>\n    <g clip-path=\"url(#p1ccd39d5a4)\">\n     <use style=\"fill:#fde725;stroke:#fde725;\" x=\"318.526826\" xlink:href=\"#C0_0_0621b6a7b1\" y=\"149.872676\"/>\n    </g>\n    <g clip-path=\"url(#p1ccd39d5a4)\">\n     <use style=\"fill:#fde725;stroke:#fde725;\" x=\"303.023031\" xlink:href=\"#C0_0_0621b6a7b1\" y=\"161.041669\"/>\n    </g>\n    <g clip-path=\"url(#p1ccd39d5a4)\">\n     <use style=\"fill:#440154;stroke:#440154;\" x=\"120.108029\" xlink:href=\"#C0_0_0621b6a7b1\" y=\"23.297252\"/>\n    </g>\n    <g clip-path=\"url(#p1ccd39d5a4)\">\n     <use style=\"fill:#fde725;stroke:#fde725;\" x=\"304.306692\" xlink:href=\"#C0_0_0621b6a7b1\" y=\"170.13293\"/>\n    </g>\n    <g clip-path=\"url(#p1ccd39d5a4)\">\n     <use style=\"fill:#fde725;stroke:#fde725;\" x=\"256.65968\" xlink:href=\"#C0_0_0621b6a7b1\" y=\"184.502506\"/>\n    </g>\n    <g clip-path=\"url(#p1ccd39d5a4)\">\n     <use style=\"fill:#440154;stroke:#440154;\" x=\"100.460934\" xlink:href=\"#C0_0_0621b6a7b1\" y=\"80.151815\"/>\n    </g>\n    <g clip-path=\"url(#p1ccd39d5a4)\">\n     <use style=\"fill:#440154;stroke:#440154;\" x=\"88.802863\" xlink:href=\"#C0_0_0621b6a7b1\" y=\"58.287333\"/>\n    </g>\n    <g clip-path=\"url(#p1ccd39d5a4)\">\n     <use style=\"fill:#440154;stroke:#440154;\" x=\"112.445638\" xlink:href=\"#C0_0_0621b6a7b1\" y=\"79.417505\"/>\n    </g>\n    <g clip-path=\"url(#p1ccd39d5a4)\">\n     <use style=\"fill:#fde725;stroke:#fde725;\" x=\"264.839525\" xlink:href=\"#C0_0_0621b6a7b1\" y=\"210.812933\"/>\n    </g>\n    <g clip-path=\"url(#p1ccd39d5a4)\">\n     <use style=\"fill:#440154;stroke:#440154;\" x=\"98.443662\" xlink:href=\"#C0_0_0621b6a7b1\" y=\"42.153294\"/>\n    </g>\n    <g clip-path=\"url(#p1ccd39d5a4)\">\n     <use style=\"fill:#440154;stroke:#440154;\" x=\"76.053342\" xlink:href=\"#C0_0_0621b6a7b1\" y=\"48.701426\"/>\n    </g>\n    <g clip-path=\"url(#p1ccd39d5a4)\">\n     <use style=\"fill:#fde725;stroke:#fde725;\" x=\"279.360989\" xlink:href=\"#C0_0_0621b6a7b1\" y=\"181.401922\"/>\n    </g>\n    <g clip-path=\"url(#p1ccd39d5a4)\">\n     <use style=\"fill:#fde725;stroke:#fde725;\" x=\"276.669375\" xlink:href=\"#C0_0_0621b6a7b1\" y=\"191.901608\"/>\n    </g>\n    <g clip-path=\"url(#p1ccd39d5a4)\">\n     <use style=\"fill:#fde725;stroke:#fde725;\" x=\"298.662631\" xlink:href=\"#C0_0_0621b6a7b1\" y=\"139.143153\"/>\n    </g>\n    <g clip-path=\"url(#p1ccd39d5a4)\">\n     <use style=\"fill:#fde725;stroke:#fde725;\" x=\"269.169379\" xlink:href=\"#C0_0_0621b6a7b1\" y=\"176.662347\"/>\n    </g>\n    <g clip-path=\"url(#p1ccd39d5a4)\">\n     <use style=\"fill:#fde725;stroke:#fde725;\" x=\"298.609922\" xlink:href=\"#C0_0_0621b6a7b1\" y=\"207.451036\"/>\n    </g>\n    <g clip-path=\"url(#p1ccd39d5a4)\">\n     <use style=\"fill:#440154;stroke:#440154;\" x=\"113.077485\" xlink:href=\"#C0_0_0621b6a7b1\" y=\"90.078301\"/>\n    </g>\n    <g clip-path=\"url(#p1ccd39d5a4)\">\n     <use style=\"fill:#fde725;stroke:#fde725;\" x=\"302.674517\" xlink:href=\"#C0_0_0621b6a7b1\" y=\"209.397648\"/>\n    </g>\n    <g clip-path=\"url(#p1ccd39d5a4)\">\n     <use style=\"fill:#fde725;stroke:#fde725;\" x=\"292.076488\" xlink:href=\"#C0_0_0621b6a7b1\" y=\"180.08938\"/>\n    </g>\n    <g clip-path=\"url(#p1ccd39d5a4)\">\n     <use style=\"fill:#fde725;stroke:#fde725;\" x=\"317.717786\" xlink:href=\"#C0_0_0621b6a7b1\" y=\"203.026574\"/>\n    </g>\n    <g clip-path=\"url(#p1ccd39d5a4)\">\n     <use style=\"fill:#fde725;stroke:#fde725;\" x=\"322.211543\" xlink:href=\"#C0_0_0621b6a7b1\" y=\"177.982424\"/>\n    </g>\n    <g clip-path=\"url(#p1ccd39d5a4)\">\n     <use style=\"fill:#fde725;stroke:#fde725;\" x=\"303.868435\" xlink:href=\"#C0_0_0621b6a7b1\" y=\"170.992133\"/>\n    </g>\n    <g clip-path=\"url(#p1ccd39d5a4)\">\n     <use style=\"fill:#440154;stroke:#440154;\" x=\"151.861781\" xlink:href=\"#C0_0_0621b6a7b1\" y=\"37.89378\"/>\n    </g>\n    <g clip-path=\"url(#p1ccd39d5a4)\">\n     <use style=\"fill:#fde725;stroke:#fde725;\" x=\"295.081795\" xlink:href=\"#C0_0_0621b6a7b1\" y=\"179.3392\"/>\n    </g>\n    <g clip-path=\"url(#p1ccd39d5a4)\">\n     <use style=\"fill:#440154;stroke:#440154;\" x=\"131.870941\" xlink:href=\"#C0_0_0621b6a7b1\" y=\"26.740792\"/>\n    </g>\n    <g clip-path=\"url(#p1ccd39d5a4)\">\n     <use style=\"fill:#fde725;stroke:#fde725;\" x=\"310.701439\" xlink:href=\"#C0_0_0621b6a7b1\" y=\"180.175805\"/>\n    </g>\n    <g clip-path=\"url(#p1ccd39d5a4)\">\n     <use style=\"fill:#fde725;stroke:#fde725;\" x=\"290.191423\" xlink:href=\"#C0_0_0621b6a7b1\" y=\"134.276511\"/>\n    </g>\n    <g clip-path=\"url(#p1ccd39d5a4)\">\n     <use style=\"fill:#440154;stroke:#440154;\" x=\"104.579497\" xlink:href=\"#C0_0_0621b6a7b1\" y=\"56.865275\"/>\n    </g>\n    <g clip-path=\"url(#p1ccd39d5a4)\">\n     <use style=\"fill:#440154;stroke:#440154;\" x=\"72.133435\" xlink:href=\"#C0_0_0621b6a7b1\" y=\"66.065408\"/>\n    </g>\n    <g clip-path=\"url(#p1ccd39d5a4)\">\n     <use style=\"fill:#440154;stroke:#440154;\" x=\"80.673515\" xlink:href=\"#C0_0_0621b6a7b1\" y=\"45.313949\"/>\n    </g>\n    <g clip-path=\"url(#p1ccd39d5a4)\">\n     <use style=\"fill:#440154;stroke:#440154;\" x=\"148.900676\" xlink:href=\"#C0_0_0621b6a7b1\" y=\"56.70691\"/>\n    </g>\n    <g clip-path=\"url(#p1ccd39d5a4)\">\n     <use style=\"fill:#440154;stroke:#440154;\" x=\"119.644498\" xlink:href=\"#C0_0_0621b6a7b1\" y=\"85.825339\"/>\n    </g>\n    <g clip-path=\"url(#p1ccd39d5a4)\">\n     <use style=\"fill:#fde725;stroke:#fde725;\" x=\"312.394067\" xlink:href=\"#C0_0_0621b6a7b1\" y=\"144.3102\"/>\n    </g>\n    <g clip-path=\"url(#p1ccd39d5a4)\">\n     <use style=\"fill:#fde725;stroke:#fde725;\" x=\"301.607743\" xlink:href=\"#C0_0_0621b6a7b1\" y=\"178.502631\"/>\n    </g>\n    <g clip-path=\"url(#p1ccd39d5a4)\">\n     <use style=\"fill:#440154;stroke:#440154;\" x=\"119.322354\" xlink:href=\"#C0_0_0621b6a7b1\" y=\"33.95181\"/>\n    </g>\n    <g clip-path=\"url(#p1ccd39d5a4)\">\n     <use style=\"fill:#440154;stroke:#440154;\" x=\"89.603968\" xlink:href=\"#C0_0_0621b6a7b1\" y=\"61.934461\"/>\n    </g>\n    <g clip-path=\"url(#p1ccd39d5a4)\">\n     <use style=\"fill:#440154;stroke:#440154;\" x=\"116.130861\" xlink:href=\"#C0_0_0621b6a7b1\" y=\"89.549849\"/>\n    </g>\n    <g clip-path=\"url(#p1ccd39d5a4)\">\n     <use style=\"fill:#440154;stroke:#440154;\" x=\"129.939897\" xlink:href=\"#C0_0_0621b6a7b1\" y=\"49.184306\"/>\n    </g>\n    <g clip-path=\"url(#p1ccd39d5a4)\">\n     <use style=\"fill:#fde725;stroke:#fde725;\" x=\"318.304074\" xlink:href=\"#C0_0_0621b6a7b1\" y=\"209.1159\"/>\n    </g>\n    <g clip-path=\"url(#p1ccd39d5a4)\">\n     <use style=\"fill:#fde725;stroke:#fde725;\" x=\"271.678011\" xlink:href=\"#C0_0_0621b6a7b1\" y=\"170.892467\"/>\n    </g>\n    <g clip-path=\"url(#p1ccd39d5a4)\">\n     <use style=\"fill:#fde725;stroke:#fde725;\" x=\"309.431517\" xlink:href=\"#C0_0_0621b6a7b1\" y=\"187.180712\"/>\n    </g>\n    <g clip-path=\"url(#p1ccd39d5a4)\">\n     <use style=\"fill:#fde725;stroke:#fde725;\" x=\"290.693842\" xlink:href=\"#C0_0_0621b6a7b1\" y=\"200.07827\"/>\n    </g>\n    <g clip-path=\"url(#p1ccd39d5a4)\">\n     <use style=\"fill:#440154;stroke:#440154;\" x=\"149.219963\" xlink:href=\"#C0_0_0621b6a7b1\" y=\"62.247249\"/>\n    </g>\n    <g clip-path=\"url(#p1ccd39d5a4)\">\n     <use style=\"fill:#440154;stroke:#440154;\" x=\"109.750746\" xlink:href=\"#C0_0_0621b6a7b1\" y=\"22.793268\"/>\n    </g>\n    <g clip-path=\"url(#p1ccd39d5a4)\">\n     <use style=\"fill:#440154;stroke:#440154;\" x=\"118.40602\" xlink:href=\"#C0_0_0621b6a7b1\" y=\"47.48548\"/>\n    </g>\n    <g clip-path=\"url(#p1ccd39d5a4)\">\n     <use style=\"fill:#440154;stroke:#440154;\" x=\"81.837958\" xlink:href=\"#C0_0_0621b6a7b1\" y=\"75.088534\"/>\n    </g>\n    <g clip-path=\"url(#p1ccd39d5a4)\">\n     <use style=\"fill:#fde725;stroke:#fde725;\" x=\"266.029744\" xlink:href=\"#C0_0_0621b6a7b1\" y=\"173.364949\"/>\n    </g>\n    <g clip-path=\"url(#p1ccd39d5a4)\">\n     <use style=\"fill:#fde725;stroke:#fde725;\" x=\"297.431184\" xlink:href=\"#C0_0_0621b6a7b1\" y=\"158.268765\"/>\n    </g>\n    <g clip-path=\"url(#p1ccd39d5a4)\">\n     <use style=\"fill:#440154;stroke:#440154;\" x=\"65.708832\" xlink:href=\"#C0_0_0621b6a7b1\" y=\"63.081013\"/>\n    </g>\n    <g clip-path=\"url(#p1ccd39d5a4)\">\n     <use style=\"fill:#440154;stroke:#440154;\" x=\"98.601586\" xlink:href=\"#C0_0_0621b6a7b1\" y=\"61.252042\"/>\n    </g>\n    <g clip-path=\"url(#p1ccd39d5a4)\">\n     <use style=\"fill:#fde725;stroke:#fde725;\" x=\"306.42123\" xlink:href=\"#C0_0_0621b6a7b1\" y=\"175.178981\"/>\n    </g>\n    <g clip-path=\"url(#p1ccd39d5a4)\">\n     <use style=\"fill:#440154;stroke:#440154;\" x=\"116.993887\" xlink:href=\"#C0_0_0621b6a7b1\" y=\"88.671145\"/>\n    </g>\n    <g clip-path=\"url(#p1ccd39d5a4)\">\n     <use style=\"fill:#fde725;stroke:#fde725;\" x=\"313.406017\" xlink:href=\"#C0_0_0621b6a7b1\" y=\"202.03725\"/>\n    </g>\n    <g clip-path=\"url(#p1ccd39d5a4)\">\n     <use style=\"fill:#440154;stroke:#440154;\" x=\"113.216117\" xlink:href=\"#C0_0_0621b6a7b1\" y=\"34.08251\"/>\n    </g>\n    <g clip-path=\"url(#p1ccd39d5a4)\">\n     <use style=\"fill:#fde725;stroke:#fde725;\" x=\"303.807619\" xlink:href=\"#C0_0_0621b6a7b1\" y=\"187.211341\"/>\n    </g>\n    <g clip-path=\"url(#p1ccd39d5a4)\">\n     <use style=\"fill:#fde725;stroke:#fde725;\" x=\"273.898688\" xlink:href=\"#C0_0_0621b6a7b1\" y=\"201.254061\"/>\n    </g>\n    <g clip-path=\"url(#p1ccd39d5a4)\">\n     <use style=\"fill:#440154;stroke:#440154;\" x=\"120.114298\" xlink:href=\"#C0_0_0621b6a7b1\" y=\"64.649998\"/>\n    </g>\n    <g clip-path=\"url(#p1ccd39d5a4)\">\n     <use style=\"fill:#440154;stroke:#440154;\" x=\"112.954579\" xlink:href=\"#C0_0_0621b6a7b1\" y=\"58.094032\"/>\n    </g>\n    <g clip-path=\"url(#p1ccd39d5a4)\">\n     <use style=\"fill:#fde725;stroke:#fde725;\" x=\"291.26553\" xlink:href=\"#C0_0_0621b6a7b1\" y=\"172.276806\"/>\n    </g>\n    <g clip-path=\"url(#p1ccd39d5a4)\">\n     <use style=\"fill:#440154;stroke:#440154;\" x=\"96.871751\" xlink:href=\"#C0_0_0621b6a7b1\" y=\"42.708147\"/>\n    </g>\n    <g clip-path=\"url(#p1ccd39d5a4)\">\n     <use style=\"fill:#fde725;stroke:#fde725;\" x=\"247.061521\" xlink:href=\"#C0_0_0621b6a7b1\" y=\"186.303426\"/>\n    </g>\n    <g clip-path=\"url(#p1ccd39d5a4)\">\n     <use style=\"fill:#fde725;stroke:#fde725;\" x=\"327.301757\" xlink:href=\"#C0_0_0621b6a7b1\" y=\"201.346346\"/>\n    </g>\n    <g clip-path=\"url(#p1ccd39d5a4)\">\n     <use style=\"fill:#fde725;stroke:#fde725;\" x=\"274.04619\" xlink:href=\"#C0_0_0621b6a7b1\" y=\"182.889388\"/>\n    </g>\n    <g clip-path=\"url(#p1ccd39d5a4)\">\n     <use style=\"fill:#fde725;stroke:#fde725;\" x=\"346.273177\" xlink:href=\"#C0_0_0621b6a7b1\" y=\"182.494402\"/>\n    </g>\n    <g clip-path=\"url(#p1ccd39d5a4)\">\n     <use style=\"fill:#440154;stroke:#440154;\" x=\"73.780061\" xlink:href=\"#C0_0_0621b6a7b1\" y=\"60.398065\"/>\n    </g>\n    <g clip-path=\"url(#p1ccd39d5a4)\">\n     <use style=\"fill:#fde725;stroke:#fde725;\" x=\"255.178142\" xlink:href=\"#C0_0_0621b6a7b1\" y=\"182.303923\"/>\n    </g>\n    <g clip-path=\"url(#p1ccd39d5a4)\">\n     <use style=\"fill:#fde725;stroke:#fde725;\" x=\"303.623599\" xlink:href=\"#C0_0_0621b6a7b1\" y=\"179.238881\"/>\n    </g>\n    <g clip-path=\"url(#p1ccd39d5a4)\">\n     <use style=\"fill:#440154;stroke:#440154;\" x=\"98.674045\" xlink:href=\"#C0_0_0621b6a7b1\" y=\"32.406599\"/>\n    </g>\n    <g clip-path=\"url(#p1ccd39d5a4)\">\n     <use style=\"fill:#fde725;stroke:#fde725;\" x=\"271.264611\" xlink:href=\"#C0_0_0621b6a7b1\" y=\"196.527863\"/>\n    </g>\n    <g clip-path=\"url(#p1ccd39d5a4)\">\n     <use style=\"fill:#fde725;stroke:#fde725;\" x=\"345.740964\" xlink:href=\"#C0_0_0621b6a7b1\" y=\"176.825994\"/>\n    </g>\n    <g clip-path=\"url(#p1ccd39d5a4)\">\n     <use style=\"fill:#fde725;stroke:#fde725;\" x=\"326.890493\" xlink:href=\"#C0_0_0621b6a7b1\" y=\"171.558299\"/>\n    </g>\n    <g clip-path=\"url(#p1ccd39d5a4)\">\n     <use style=\"fill:#fde725;stroke:#fde725;\" x=\"285.449597\" xlink:href=\"#C0_0_0621b6a7b1\" y=\"169.579537\"/>\n    </g>\n    <g clip-path=\"url(#p1ccd39d5a4)\">\n     <use style=\"fill:#fde725;stroke:#fde725;\" x=\"292.886754\" xlink:href=\"#C0_0_0621b6a7b1\" y=\"178.147787\"/>\n    </g>\n    <g clip-path=\"url(#p1ccd39d5a4)\">\n     <use style=\"fill:#fde725;stroke:#fde725;\" x=\"299.69051\" xlink:href=\"#C0_0_0621b6a7b1\" y=\"195.337904\"/>\n    </g>\n    <g clip-path=\"url(#p1ccd39d5a4)\">\n     <use style=\"fill:#440154;stroke:#440154;\" x=\"108.807271\" xlink:href=\"#C0_0_0621b6a7b1\" y=\"33.421673\"/>\n    </g>\n    <g clip-path=\"url(#p1ccd39d5a4)\">\n     <use style=\"fill:#fde725;stroke:#fde725;\" x=\"273.11881\" xlink:href=\"#C0_0_0621b6a7b1\" y=\"156.442776\"/>\n    </g>\n    <g clip-path=\"url(#p1ccd39d5a4)\">\n     <use style=\"fill:#440154;stroke:#440154;\" x=\"110.332955\" xlink:href=\"#C0_0_0621b6a7b1\" y=\"72.465187\"/>\n    </g>\n    <g clip-path=\"url(#p1ccd39d5a4)\">\n     <use style=\"fill:#fde725;stroke:#fde725;\" x=\"304.733833\" xlink:href=\"#C0_0_0621b6a7b1\" y=\"199.332255\"/>\n    </g>\n    <g clip-path=\"url(#p1ccd39d5a4)\">\n     <use style=\"fill:#440154;stroke:#440154;\" x=\"94.995797\" xlink:href=\"#C0_0_0621b6a7b1\" y=\"17.344974\"/>\n    </g>\n    <g clip-path=\"url(#p1ccd39d5a4)\">\n     <use style=\"fill:#440154;stroke:#440154;\" x=\"132.132182\" xlink:href=\"#C0_0_0621b6a7b1\" y=\"75.555202\"/>\n    </g>\n    <g clip-path=\"url(#p1ccd39d5a4)\">\n     <use style=\"fill:#440154;stroke:#440154;\" x=\"87.008779\" xlink:href=\"#C0_0_0621b6a7b1\" y=\"79.181785\"/>\n    </g>\n    <g clip-path=\"url(#p1ccd39d5a4)\">\n     <use style=\"fill:#fde725;stroke:#fde725;\" x=\"269.393326\" xlink:href=\"#C0_0_0621b6a7b1\" y=\"176.83055\"/>\n    </g>\n    <g clip-path=\"url(#p1ccd39d5a4)\">\n     <use style=\"fill:#440154;stroke:#440154;\" x=\"107.669436\" xlink:href=\"#C0_0_0621b6a7b1\" y=\"58.133741\"/>\n    </g>\n    <g clip-path=\"url(#p1ccd39d5a4)\">\n     <use style=\"fill:#440154;stroke:#440154;\" x=\"92.379331\" xlink:href=\"#C0_0_0621b6a7b1\" y=\"58.636803\"/>\n    </g>\n    <g clip-path=\"url(#p1ccd39d5a4)\">\n     <use style=\"fill:#440154;stroke:#440154;\" x=\"42.376823\" xlink:href=\"#C0_0_0621b6a7b1\" y=\"36.862066\"/>\n    </g>\n    <g clip-path=\"url(#p1ccd39d5a4)\">\n     <use style=\"fill:#fde725;stroke:#fde725;\" x=\"296.187083\" xlink:href=\"#C0_0_0621b6a7b1\" y=\"207.937985\"/>\n    </g>\n    <g clip-path=\"url(#p1ccd39d5a4)\">\n     <use style=\"fill:#440154;stroke:#440154;\" x=\"84.276007\" xlink:href=\"#C0_0_0621b6a7b1\" y=\"46.477931\"/>\n    </g>\n    <g clip-path=\"url(#p1ccd39d5a4)\">\n     <use style=\"fill:#fde725;stroke:#fde725;\" x=\"333.669072\" xlink:href=\"#C0_0_0621b6a7b1\" y=\"212.354684\"/>\n    </g>\n    <g clip-path=\"url(#p1ccd39d5a4)\">\n     <use style=\"fill:#440154;stroke:#440154;\" x=\"95.023643\" xlink:href=\"#C0_0_0621b6a7b1\" y=\"57.9555\"/>\n    </g>\n    <g clip-path=\"url(#p1ccd39d5a4)\">\n     <use style=\"fill:#440154;stroke:#440154;\" x=\"119.135154\" xlink:href=\"#C0_0_0621b6a7b1\" y=\"59.72444\"/>\n    </g>\n    <g clip-path=\"url(#p1ccd39d5a4)\">\n     <use style=\"fill:#440154;stroke:#440154;\" x=\"93.034607\" xlink:href=\"#C0_0_0621b6a7b1\" y=\"40.844113\"/>\n    </g>\n    <g clip-path=\"url(#p1ccd39d5a4)\">\n     <use style=\"fill:#440154;stroke:#440154;\" x=\"101.748839\" xlink:href=\"#C0_0_0621b6a7b1\" y=\"67.626832\"/>\n    </g>\n    <g clip-path=\"url(#p1ccd39d5a4)\">\n     <use style=\"fill:#440154;stroke:#440154;\" x=\"137.567494\" xlink:href=\"#C0_0_0621b6a7b1\" y=\"34.790266\"/>\n    </g>\n    <g clip-path=\"url(#p1ccd39d5a4)\">\n     <use style=\"fill:#440154;stroke:#440154;\" x=\"134.553371\" xlink:href=\"#C0_0_0621b6a7b1\" y=\"46.203204\"/>\n    </g>\n    <g clip-path=\"url(#p1ccd39d5a4)\">\n     <use style=\"fill:#fde725;stroke:#fde725;\" x=\"275.012601\" xlink:href=\"#C0_0_0621b6a7b1\" y=\"214.495026\"/>\n    </g>\n    <g clip-path=\"url(#p1ccd39d5a4)\">\n     <use style=\"fill:#440154;stroke:#440154;\" x=\"104.957092\" xlink:href=\"#C0_0_0621b6a7b1\" y=\"45.665989\"/>\n    </g>\n    <g clip-path=\"url(#p1ccd39d5a4)\">\n     <use style=\"fill:#440154;stroke:#440154;\" x=\"110.818216\" xlink:href=\"#C0_0_0621b6a7b1\" y=\"56.873802\"/>\n    </g>\n   </g>\n   <g id=\"matplotlib.axis_1\">\n    <g id=\"xtick_1\">\n     <g id=\"line2d_1\">\n      <defs>\n       <path d=\"M 0 0 \nL 0 3.5 \n\" id=\"m31ab441ae3\" style=\"stroke:#000000;stroke-width:0.8;\"/>\n      </defs>\n      <g>\n       <use style=\"stroke:#000000;stroke-width:0.8;\" x=\"71.813233\" xlink:href=\"#m31ab441ae3\" y=\"224.64\"/>\n      </g>\n     </g>\n     <g id=\"text_1\">\n      <!-- −4 -->\n      <defs>\n       <path d=\"M 10.59375 35.5 \nL 73.1875 35.5 \nL 73.1875 27.203125 \nL 10.59375 27.203125 \nz\n\" id=\"DejaVuSans-8722\"/>\n       <path d=\"M 37.796875 64.3125 \nL 12.890625 25.390625 \nL 37.796875 25.390625 \nz\nM 35.203125 72.90625 \nL 47.609375 72.90625 \nL 47.609375 25.390625 \nL 58.015625 25.390625 \nL 58.015625 17.1875 \nL 47.609375 17.1875 \nL 47.609375 0 \nL 37.796875 0 \nL 37.796875 17.1875 \nL 4.890625 17.1875 \nL 4.890625 26.703125 \nz\n\" id=\"DejaVuSans-52\"/>\n      </defs>\n      <g transform=\"translate(64.442139 239.238437)scale(0.1 -0.1)\">\n       <use xlink:href=\"#DejaVuSans-8722\"/>\n       <use x=\"83.789062\" xlink:href=\"#DejaVuSans-52\"/>\n      </g>\n     </g>\n    </g>\n    <g id=\"xtick_2\">\n     <g id=\"line2d_2\">\n      <g>\n       <use style=\"stroke:#000000;stroke-width:0.8;\" x=\"123.961866\" xlink:href=\"#m31ab441ae3\" y=\"224.64\"/>\n      </g>\n     </g>\n     <g id=\"text_2\">\n      <!-- −2 -->\n      <defs>\n       <path d=\"M 19.1875 8.296875 \nL 53.609375 8.296875 \nL 53.609375 0 \nL 7.328125 0 \nL 7.328125 8.296875 \nQ 12.9375 14.109375 22.625 23.890625 \nQ 32.328125 33.6875 34.8125 36.53125 \nQ 39.546875 41.84375 41.421875 45.53125 \nQ 43.3125 49.21875 43.3125 52.78125 \nQ 43.3125 58.59375 39.234375 62.25 \nQ 35.15625 65.921875 28.609375 65.921875 \nQ 23.96875 65.921875 18.8125 64.3125 \nQ 13.671875 62.703125 7.8125 59.421875 \nL 7.8125 69.390625 \nQ 13.765625 71.78125 18.9375 73 \nQ 24.125 74.21875 28.421875 74.21875 \nQ 39.75 74.21875 46.484375 68.546875 \nQ 53.21875 62.890625 53.21875 53.421875 \nQ 53.21875 48.921875 51.53125 44.890625 \nQ 49.859375 40.875 45.40625 35.40625 \nQ 44.1875 33.984375 37.640625 27.21875 \nQ 31.109375 20.453125 19.1875 8.296875 \nz\n\" id=\"DejaVuSans-50\"/>\n      </defs>\n      <g transform=\"translate(116.590772 239.238437)scale(0.1 -0.1)\">\n       <use xlink:href=\"#DejaVuSans-8722\"/>\n       <use x=\"83.789062\" xlink:href=\"#DejaVuSans-50\"/>\n      </g>\n     </g>\n    </g>\n    <g id=\"xtick_3\">\n     <g id=\"line2d_3\">\n      <g>\n       <use style=\"stroke:#000000;stroke-width:0.8;\" x=\"176.110499\" xlink:href=\"#m31ab441ae3\" y=\"224.64\"/>\n      </g>\n     </g>\n     <g id=\"text_3\">\n      <!-- 0 -->\n      <defs>\n       <path d=\"M 31.78125 66.40625 \nQ 24.171875 66.40625 20.328125 58.90625 \nQ 16.5 51.421875 16.5 36.375 \nQ 16.5 21.390625 20.328125 13.890625 \nQ 24.171875 6.390625 31.78125 6.390625 \nQ 39.453125 6.390625 43.28125 13.890625 \nQ 47.125 21.390625 47.125 36.375 \nQ 47.125 51.421875 43.28125 58.90625 \nQ 39.453125 66.40625 31.78125 66.40625 \nz\nM 31.78125 74.21875 \nQ 44.046875 74.21875 50.515625 64.515625 \nQ 56.984375 54.828125 56.984375 36.375 \nQ 56.984375 17.96875 50.515625 8.265625 \nQ 44.046875 -1.421875 31.78125 -1.421875 \nQ 19.53125 -1.421875 13.0625 8.265625 \nQ 6.59375 17.96875 6.59375 36.375 \nQ 6.59375 54.828125 13.0625 64.515625 \nQ 19.53125 74.21875 31.78125 74.21875 \nz\n\" id=\"DejaVuSans-48\"/>\n      </defs>\n      <g transform=\"translate(172.929249 239.238437)scale(0.1 -0.1)\">\n       <use xlink:href=\"#DejaVuSans-48\"/>\n      </g>\n     </g>\n    </g>\n    <g id=\"xtick_4\">\n     <g id=\"line2d_4\">\n      <g>\n       <use style=\"stroke:#000000;stroke-width:0.8;\" x=\"228.259132\" xlink:href=\"#m31ab441ae3\" y=\"224.64\"/>\n      </g>\n     </g>\n     <g id=\"text_4\">\n      <!-- 2 -->\n      <g transform=\"translate(225.077882 239.238437)scale(0.1 -0.1)\">\n       <use xlink:href=\"#DejaVuSans-50\"/>\n      </g>\n     </g>\n    </g>\n    <g id=\"xtick_5\">\n     <g id=\"line2d_5\">\n      <g>\n       <use style=\"stroke:#000000;stroke-width:0.8;\" x=\"280.407766\" xlink:href=\"#m31ab441ae3\" y=\"224.64\"/>\n      </g>\n     </g>\n     <g id=\"text_5\">\n      <!-- 4 -->\n      <g transform=\"translate(277.226516 239.238437)scale(0.1 -0.1)\">\n       <use xlink:href=\"#DejaVuSans-52\"/>\n      </g>\n     </g>\n    </g>\n    <g id=\"xtick_6\">\n     <g id=\"line2d_6\">\n      <g>\n       <use style=\"stroke:#000000;stroke-width:0.8;\" x=\"332.556399\" xlink:href=\"#m31ab441ae3\" y=\"224.64\"/>\n      </g>\n     </g>\n     <g id=\"text_6\">\n      <!-- 6 -->\n      <defs>\n       <path d=\"M 33.015625 40.375 \nQ 26.375 40.375 22.484375 35.828125 \nQ 18.609375 31.296875 18.609375 23.390625 \nQ 18.609375 15.53125 22.484375 10.953125 \nQ 26.375 6.390625 33.015625 6.390625 \nQ 39.65625 6.390625 43.53125 10.953125 \nQ 47.40625 15.53125 47.40625 23.390625 \nQ 47.40625 31.296875 43.53125 35.828125 \nQ 39.65625 40.375 33.015625 40.375 \nz\nM 52.59375 71.296875 \nL 52.59375 62.3125 \nQ 48.875 64.0625 45.09375 64.984375 \nQ 41.3125 65.921875 37.59375 65.921875 \nQ 27.828125 65.921875 22.671875 59.328125 \nQ 17.53125 52.734375 16.796875 39.40625 \nQ 19.671875 43.65625 24.015625 45.921875 \nQ 28.375 48.1875 33.59375 48.1875 \nQ 44.578125 48.1875 50.953125 41.515625 \nQ 57.328125 34.859375 57.328125 23.390625 \nQ 57.328125 12.15625 50.6875 5.359375 \nQ 44.046875 -1.421875 33.015625 -1.421875 \nQ 20.359375 -1.421875 13.671875 8.265625 \nQ 6.984375 17.96875 6.984375 36.375 \nQ 6.984375 53.65625 15.1875 63.9375 \nQ 23.390625 74.21875 37.203125 74.21875 \nQ 40.921875 74.21875 44.703125 73.484375 \nQ 48.484375 72.75 52.59375 71.296875 \nz\n\" id=\"DejaVuSans-54\"/>\n      </defs>\n      <g transform=\"translate(329.375149 239.238437)scale(0.1 -0.1)\">\n       <use xlink:href=\"#DejaVuSans-54\"/>\n      </g>\n     </g>\n    </g>\n   </g>\n   <g id=\"matplotlib.axis_2\">\n    <g id=\"ytick_1\">\n     <g id=\"line2d_7\">\n      <defs>\n       <path d=\"M 0 0 \nL -3.5 0 \n\" id=\"m8c79682b95\" style=\"stroke:#000000;stroke-width:0.8;\"/>\n      </defs>\n      <g>\n       <use style=\"stroke:#000000;stroke-width:0.8;\" x=\"26.925\" xlink:href=\"#m8c79682b95\" y=\"223.176444\"/>\n      </g>\n     </g>\n     <g id=\"text_7\">\n      <!-- 0 -->\n      <g transform=\"translate(13.5625 226.975663)scale(0.1 -0.1)\">\n       <use xlink:href=\"#DejaVuSans-48\"/>\n      </g>\n     </g>\n    </g>\n    <g id=\"ytick_2\">\n     <g id=\"line2d_8\">\n      <g>\n       <use style=\"stroke:#000000;stroke-width:0.8;\" x=\"26.925\" xlink:href=\"#m8c79682b95\" y=\"185.292995\"/>\n      </g>\n     </g>\n     <g id=\"text_8\">\n      <!-- 2 -->\n      <g transform=\"translate(13.5625 189.092213)scale(0.1 -0.1)\">\n       <use xlink:href=\"#DejaVuSans-50\"/>\n      </g>\n     </g>\n    </g>\n    <g id=\"ytick_3\">\n     <g id=\"line2d_9\">\n      <g>\n       <use style=\"stroke:#000000;stroke-width:0.8;\" x=\"26.925\" xlink:href=\"#m8c79682b95\" y=\"147.409545\"/>\n      </g>\n     </g>\n     <g id=\"text_9\">\n      <!-- 4 -->\n      <g transform=\"translate(13.5625 151.208764)scale(0.1 -0.1)\">\n       <use xlink:href=\"#DejaVuSans-52\"/>\n      </g>\n     </g>\n    </g>\n    <g id=\"ytick_4\">\n     <g id=\"line2d_10\">\n      <g>\n       <use style=\"stroke:#000000;stroke-width:0.8;\" x=\"26.925\" xlink:href=\"#m8c79682b95\" y=\"109.526096\"/>\n      </g>\n     </g>\n     <g id=\"text_10\">\n      <!-- 6 -->\n      <g transform=\"translate(13.5625 113.325314)scale(0.1 -0.1)\">\n       <use xlink:href=\"#DejaVuSans-54\"/>\n      </g>\n     </g>\n    </g>\n    <g id=\"ytick_5\">\n     <g id=\"line2d_11\">\n      <g>\n       <use style=\"stroke:#000000;stroke-width:0.8;\" x=\"26.925\" xlink:href=\"#m8c79682b95\" y=\"71.642646\"/>\n      </g>\n     </g>\n     <g id=\"text_11\">\n      <!-- 8 -->\n      <defs>\n       <path d=\"M 31.78125 34.625 \nQ 24.75 34.625 20.71875 30.859375 \nQ 16.703125 27.09375 16.703125 20.515625 \nQ 16.703125 13.921875 20.71875 10.15625 \nQ 24.75 6.390625 31.78125 6.390625 \nQ 38.8125 6.390625 42.859375 10.171875 \nQ 46.921875 13.96875 46.921875 20.515625 \nQ 46.921875 27.09375 42.890625 30.859375 \nQ 38.875 34.625 31.78125 34.625 \nz\nM 21.921875 38.8125 \nQ 15.578125 40.375 12.03125 44.71875 \nQ 8.5 49.078125 8.5 55.328125 \nQ 8.5 64.0625 14.71875 69.140625 \nQ 20.953125 74.21875 31.78125 74.21875 \nQ 42.671875 74.21875 48.875 69.140625 \nQ 55.078125 64.0625 55.078125 55.328125 \nQ 55.078125 49.078125 51.53125 44.71875 \nQ 48 40.375 41.703125 38.8125 \nQ 48.828125 37.15625 52.796875 32.3125 \nQ 56.78125 27.484375 56.78125 20.515625 \nQ 56.78125 9.90625 50.3125 4.234375 \nQ 43.84375 -1.421875 31.78125 -1.421875 \nQ 19.734375 -1.421875 13.25 4.234375 \nQ 6.78125 9.90625 6.78125 20.515625 \nQ 6.78125 27.484375 10.78125 32.3125 \nQ 14.796875 37.15625 21.921875 38.8125 \nz\nM 18.3125 54.390625 \nQ 18.3125 48.734375 21.84375 45.5625 \nQ 25.390625 42.390625 31.78125 42.390625 \nQ 38.140625 42.390625 41.71875 45.5625 \nQ 45.3125 48.734375 45.3125 54.390625 \nQ 45.3125 60.0625 41.71875 63.234375 \nQ 38.140625 66.40625 31.78125 66.40625 \nQ 25.390625 66.40625 21.84375 63.234375 \nQ 18.3125 60.0625 18.3125 54.390625 \nz\n\" id=\"DejaVuSans-56\"/>\n      </defs>\n      <g transform=\"translate(13.5625 75.441865)scale(0.1 -0.1)\">\n       <use xlink:href=\"#DejaVuSans-56\"/>\n      </g>\n     </g>\n    </g>\n    <g id=\"ytick_6\">\n     <g id=\"line2d_12\">\n      <g>\n       <use style=\"stroke:#000000;stroke-width:0.8;\" x=\"26.925\" xlink:href=\"#m8c79682b95\" y=\"33.759196\"/>\n      </g>\n     </g>\n     <g id=\"text_12\">\n      <!-- 10 -->\n      <defs>\n       <path d=\"M 12.40625 8.296875 \nL 28.515625 8.296875 \nL 28.515625 63.921875 \nL 10.984375 60.40625 \nL 10.984375 69.390625 \nL 28.421875 72.90625 \nL 38.28125 72.90625 \nL 38.28125 8.296875 \nL 54.390625 8.296875 \nL 54.390625 0 \nL 12.40625 0 \nz\n\" id=\"DejaVuSans-49\"/>\n      </defs>\n      <g transform=\"translate(7.2 37.558415)scale(0.1 -0.1)\">\n       <use xlink:href=\"#DejaVuSans-49\"/>\n       <use x=\"63.623047\" xlink:href=\"#DejaVuSans-48\"/>\n      </g>\n     </g>\n    </g>\n   </g>\n   <g id=\"patch_3\">\n    <path d=\"M 26.925 224.64 \nL 26.925 7.2 \n\" style=\"fill:none;stroke:#000000;stroke-linecap:square;stroke-linejoin:miter;stroke-width:0.8;\"/>\n   </g>\n   <g id=\"patch_4\">\n    <path d=\"M 361.725 224.64 \nL 361.725 7.2 \n\" style=\"fill:none;stroke:#000000;stroke-linecap:square;stroke-linejoin:miter;stroke-width:0.8;\"/>\n   </g>\n   <g id=\"patch_5\">\n    <path d=\"M 26.925 224.64 \nL 361.725 224.64 \n\" style=\"fill:none;stroke:#000000;stroke-linecap:square;stroke-linejoin:miter;stroke-width:0.8;\"/>\n   </g>\n   <g id=\"patch_6\">\n    <path d=\"M 26.925 7.2 \nL 361.725 7.2 \n\" style=\"fill:none;stroke:#000000;stroke-linecap:square;stroke-linejoin:miter;stroke-width:0.8;\"/>\n   </g>\n  </g>\n </g>\n <defs>\n  <clipPath id=\"p1ccd39d5a4\">\n   <rect height=\"217.44\" width=\"334.8\" x=\"26.925\" y=\"7.2\"/>\n  </clipPath>\n </defs>\n</svg>\n",
      "image/png": "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\n"
     },
     "metadata": {
      "needs_background": "light"
     }
=======
     "data": {
      "text/plain": [
       "<matplotlib.collections.PathCollection at 0x1b213d94280>"
      ]
     },
     "execution_count": 3,
     "metadata": {},
     "output_type": "execute_result"
    },
    {
     "data": {
      "image/png": "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\n",
      "text/plain": [
       "<Figure size 432x288 with 1 Axes>"
      ]
     },
     "metadata": {
      "needs_background": "light"
     },
     "output_type": "display_data"
>>>>>>> 30ccfe63d468f39b78d6edfcd3e1345c71f295f3
    }
   ],
   "source": [
    "# Visualizing both classes\n",
    "plt.scatter(X[:, 0], X[:, 1], c=y)"
   ]
  },
  {
   "cell_type": "markdown",
   "metadata": {
    "slideshow": {
     "slide_type": "subslide"
    }
   },
   "source": [
    "Split our data into training and testing"
   ]
  },
  {
   "cell_type": "code",
   "execution_count": 4,
   "metadata": {
<<<<<<< HEAD
    "collapsed": true,
=======
>>>>>>> 30ccfe63d468f39b78d6edfcd3e1345c71f295f3
    "slideshow": {
     "slide_type": "fragment"
    }
   },
   "outputs": [],
   "source": [
    "from sklearn.model_selection import train_test_split\n",
    "\n",
    "X_train, X_test, y_train, y_test = train_test_split(X, y, random_state=1)"
   ]
  },
  {
   "cell_type": "markdown",
   "metadata": {
    "slideshow": {
     "slide_type": "subslide"
    }
   },
   "source": [
    "Create a Logistic Regression Model"
   ]
  },
  {
   "cell_type": "code",
   "execution_count": 5,
   "metadata": {
    "slideshow": {
     "slide_type": "fragment"
    }
   },
   "outputs": [
    {
     "data": {
      "text/plain": [
<<<<<<< HEAD
       "LogisticRegression(C=1.0, class_weight=None, dual=False, fit_intercept=True,\n",
       "          intercept_scaling=1, max_iter=100, multi_class='ovr', n_jobs=1,\n",
       "          penalty='l2', random_state=None, solver='liblinear', tol=0.0001,\n",
       "          verbose=0, warm_start=False)"
=======
       "LogisticRegression()"
>>>>>>> 30ccfe63d468f39b78d6edfcd3e1345c71f295f3
      ]
     },
     "execution_count": 5,
     "metadata": {},
     "output_type": "execute_result"
    }
   ],
   "source": [
    "from sklearn.linear_model import LogisticRegression\n",
    "classifier = LogisticRegression()\n",
    "classifier"
   ]
  },
  {
   "cell_type": "markdown",
   "metadata": {
    "slideshow": {
     "slide_type": "subslide"
    }
   },
   "source": [
    "Fit (train) or model using the training data"
   ]
  },
  {
   "cell_type": "code",
   "execution_count": 6,
   "metadata": {
    "slideshow": {
     "slide_type": "fragment"
    }
   },
   "outputs": [
    {
     "data": {
      "text/plain": [
<<<<<<< HEAD
       "LogisticRegression(C=1.0, class_weight=None, dual=False, fit_intercept=True,\n",
       "          intercept_scaling=1, max_iter=100, multi_class='ovr', n_jobs=1,\n",
       "          penalty='l2', random_state=None, solver='liblinear', tol=0.0001,\n",
       "          verbose=0, warm_start=False)"
=======
       "LogisticRegression()"
>>>>>>> 30ccfe63d468f39b78d6edfcd3e1345c71f295f3
      ]
     },
     "execution_count": 6,
     "metadata": {},
     "output_type": "execute_result"
    }
   ],
   "source": [
    "classifier.fit(X_train, y_train)"
   ]
  },
  {
   "cell_type": "markdown",
   "metadata": {
    "slideshow": {
     "slide_type": "subslide"
    }
   },
   "source": [
    "Validate the model using the test data"
   ]
  },
  {
   "cell_type": "code",
   "execution_count": 7,
   "metadata": {
    "slideshow": {
     "slide_type": "fragment"
    }
   },
   "outputs": [
    {
     "name": "stdout",
     "output_type": "stream",
     "text": [
      "Training Data Score: 1.0\n",
      "Testing Data Score: 1.0\n"
     ]
    }
   ],
   "source": [
    "print(f\"Training Data Score: {classifier.score(X_train, y_train)}\")\n",
    "print(f\"Testing Data Score: {classifier.score(X_test, y_test)}\")"
   ]
  },
  {
   "cell_type": "markdown",
   "metadata": {
    "slideshow": {
     "slide_type": "subslide"
    }
   },
   "source": [
    "Make predictions"
   ]
  },
  {
   "cell_type": "code",
   "execution_count": 8,
   "metadata": {},
   "outputs": [
    {
     "data": {
      "text/plain": [
<<<<<<< HEAD
       "<matplotlib.collections.PathCollection at 0x111ec3e10>"
=======
       "<matplotlib.collections.PathCollection at 0x1b2140bb8b0>"
>>>>>>> 30ccfe63d468f39b78d6edfcd3e1345c71f295f3
      ]
     },
     "execution_count": 8,
     "metadata": {},
     "output_type": "execute_result"
    },
    {
     "data": {
<<<<<<< HEAD
      "image/png": "iVBORw0KGgoAAAANSUhEUgAAAXQAAAD8CAYAAABn919SAAAABHNCSVQICAgIfAhkiAAAAAlwSFlz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\nP74Es2k+A8hRAAAAAElFTkSuQmCC\n",
      "text/plain": [
       "<matplotlib.figure.Figure at 0x111e41b38>"
      ]
     },
     "metadata": {},
=======
      "image/png": "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\n",
      "text/plain": [
       "<Figure size 432x288 with 1 Axes>"
      ]
     },
     "metadata": {
      "needs_background": "light"
     },
>>>>>>> 30ccfe63d468f39b78d6edfcd3e1345c71f295f3
     "output_type": "display_data"
    }
   ],
   "source": [
    "# Generate a new data point (the red circle)\n",
    "import numpy as np\n",
    "new_data = np.array([[-2, 6]])\n",
    "plt.scatter(X[:, 0], X[:, 1], c=y)\n",
    "plt.scatter(new_data[0, 0], new_data[0, 1], c=\"r\", marker=\"o\", s=100)"
   ]
  },
  {
   "cell_type": "code",
   "execution_count": 9,
   "metadata": {
    "slideshow": {
     "slide_type": "fragment"
    }
   },
   "outputs": [
    {
     "name": "stdout",
     "output_type": "stream",
     "text": [
      "Classes are either 0 (purple) or 1 (yellow)\n",
      "The new point was classified as: [0]\n"
     ]
    }
   ],
   "source": [
    "# Predict the class (purple or yellow) of the new data point\n",
    "predictions = classifier.predict(new_data)\n",
    "print(\"Classes are either 0 (purple) or 1 (yellow)\")\n",
    "print(f\"The new point was classified as: {predictions}\")"
   ]
  },
  {
   "cell_type": "code",
   "execution_count": 10,
   "metadata": {
    "slideshow": {
     "slide_type": "subslide"
    }
   },
   "outputs": [
    {
     "data": {
      "text/html": [
       "<div>\n",
<<<<<<< HEAD
       "<style>\n",
       "    .dataframe thead tr:only-child th {\n",
       "        text-align: right;\n",
       "    }\n",
       "\n",
       "    .dataframe thead th {\n",
       "        text-align: left;\n",
=======
       "<style scoped>\n",
       "    .dataframe tbody tr th:only-of-type {\n",
       "        vertical-align: middle;\n",
>>>>>>> 30ccfe63d468f39b78d6edfcd3e1345c71f295f3
       "    }\n",
       "\n",
       "    .dataframe tbody tr th {\n",
       "        vertical-align: top;\n",
       "    }\n",
<<<<<<< HEAD
=======
       "\n",
       "    .dataframe thead th {\n",
       "        text-align: right;\n",
       "    }\n",
>>>>>>> 30ccfe63d468f39b78d6edfcd3e1345c71f295f3
       "</style>\n",
       "<table border=\"1\" class=\"dataframe\">\n",
       "  <thead>\n",
       "    <tr style=\"text-align: right;\">\n",
       "      <th></th>\n",
<<<<<<< HEAD
       "      <th>Actual</th>\n",
       "      <th>Prediction</th>\n",
=======
       "      <th>Prediction</th>\n",
       "      <th>Actual</th>\n",
>>>>>>> 30ccfe63d468f39b78d6edfcd3e1345c71f295f3
       "    </tr>\n",
       "  </thead>\n",
       "  <tbody>\n",
       "    <tr>\n",
       "      <th>0</th>\n",
       "      <td>1</td>\n",
       "      <td>1</td>\n",
       "    </tr>\n",
       "    <tr>\n",
       "      <th>1</th>\n",
<<<<<<< HEAD
       "      <td>0</td>\n",
       "      <td>0</td>\n",
       "    </tr>\n",
       "    <tr>\n",
       "      <th>2</th>\n",
       "      <td>1</td>\n",
       "      <td>1</td>\n",
       "    </tr>\n",
       "    <tr>\n",
       "      <th>3</th>\n",
       "      <td>1</td>\n",
       "      <td>1</td>\n",
       "    </tr>\n",
       "    <tr>\n",
       "      <th>4</th>\n",
       "      <td>1</td>\n",
       "      <td>1</td>\n",
       "    </tr>\n",
       "    <tr>\n",
       "      <th>5</th>\n",
       "      <td>0</td>\n",
       "      <td>0</td>\n",
=======
       "      <td>1</td>\n",
       "      <td>1</td>\n",
       "    </tr>\n",
       "    <tr>\n",
       "      <th>2</th>\n",
       "      <td>0</td>\n",
       "      <td>0</td>\n",
       "    </tr>\n",
       "    <tr>\n",
       "      <th>3</th>\n",
       "      <td>0</td>\n",
       "      <td>0</td>\n",
       "    </tr>\n",
       "    <tr>\n",
       "      <th>4</th>\n",
       "      <td>0</td>\n",
       "      <td>0</td>\n",
       "    </tr>\n",
       "    <tr>\n",
       "      <th>5</th>\n",
       "      <td>1</td>\n",
       "      <td>1</td>\n",
>>>>>>> 30ccfe63d468f39b78d6edfcd3e1345c71f295f3
       "    </tr>\n",
       "    <tr>\n",
       "      <th>6</th>\n",
       "      <td>1</td>\n",
       "      <td>1</td>\n",
       "    </tr>\n",
       "    <tr>\n",
       "      <th>7</th>\n",
<<<<<<< HEAD
       "      <td>1</td>\n",
       "      <td>1</td>\n",
=======
       "      <td>0</td>\n",
       "      <td>0</td>\n",
>>>>>>> 30ccfe63d468f39b78d6edfcd3e1345c71f295f3
       "    </tr>\n",
       "    <tr>\n",
       "      <th>8</th>\n",
       "      <td>1</td>\n",
       "      <td>1</td>\n",
       "    </tr>\n",
       "    <tr>\n",
       "      <th>9</th>\n",
<<<<<<< HEAD
       "      <td>0</td>\n",
       "      <td>0</td>\n",
=======
       "      <td>1</td>\n",
       "      <td>1</td>\n",
>>>>>>> 30ccfe63d468f39b78d6edfcd3e1345c71f295f3
       "    </tr>\n",
       "    <tr>\n",
       "      <th>10</th>\n",
       "      <td>0</td>\n",
       "      <td>0</td>\n",
       "    </tr>\n",
       "    <tr>\n",
       "      <th>11</th>\n",
<<<<<<< HEAD
       "      <td>1</td>\n",
       "      <td>1</td>\n",
       "    </tr>\n",
       "    <tr>\n",
       "      <th>12</th>\n",
       "      <td>1</td>\n",
       "      <td>1</td>\n",
=======
       "      <td>0</td>\n",
       "      <td>0</td>\n",
       "    </tr>\n",
       "    <tr>\n",
       "      <th>12</th>\n",
       "      <td>0</td>\n",
       "      <td>0</td>\n",
>>>>>>> 30ccfe63d468f39b78d6edfcd3e1345c71f295f3
       "    </tr>\n",
       "    <tr>\n",
       "      <th>13</th>\n",
       "      <td>0</td>\n",
       "      <td>0</td>\n",
       "    </tr>\n",
       "    <tr>\n",
       "      <th>14</th>\n",
<<<<<<< HEAD
       "      <td>1</td>\n",
       "      <td>1</td>\n",
=======
       "      <td>0</td>\n",
       "      <td>0</td>\n",
>>>>>>> 30ccfe63d468f39b78d6edfcd3e1345c71f295f3
       "    </tr>\n",
       "    <tr>\n",
       "      <th>15</th>\n",
       "      <td>0</td>\n",
       "      <td>0</td>\n",
       "    </tr>\n",
       "    <tr>\n",
       "      <th>16</th>\n",
       "      <td>0</td>\n",
       "      <td>0</td>\n",
       "    </tr>\n",
       "    <tr>\n",
       "      <th>17</th>\n",
<<<<<<< HEAD
       "      <td>0</td>\n",
       "      <td>0</td>\n",
       "    </tr>\n",
       "    <tr>\n",
       "      <th>18</th>\n",
       "      <td>0</td>\n",
       "      <td>0</td>\n",
=======
       "      <td>1</td>\n",
       "      <td>1</td>\n",
       "    </tr>\n",
       "    <tr>\n",
       "      <th>18</th>\n",
       "      <td>1</td>\n",
       "      <td>1</td>\n",
>>>>>>> 30ccfe63d468f39b78d6edfcd3e1345c71f295f3
       "    </tr>\n",
       "    <tr>\n",
       "      <th>19</th>\n",
       "      <td>0</td>\n",
       "      <td>0</td>\n",
       "    </tr>\n",
       "    <tr>\n",
       "      <th>20</th>\n",
<<<<<<< HEAD
       "      <td>1</td>\n",
       "      <td>1</td>\n",
=======
       "      <td>0</td>\n",
       "      <td>0</td>\n",
>>>>>>> 30ccfe63d468f39b78d6edfcd3e1345c71f295f3
       "    </tr>\n",
       "    <tr>\n",
       "      <th>21</th>\n",
       "      <td>1</td>\n",
       "      <td>1</td>\n",
       "    </tr>\n",
       "    <tr>\n",
       "      <th>22</th>\n",
<<<<<<< HEAD
       "      <td>0</td>\n",
       "      <td>0</td>\n",
=======
       "      <td>1</td>\n",
       "      <td>1</td>\n",
>>>>>>> 30ccfe63d468f39b78d6edfcd3e1345c71f295f3
       "    </tr>\n",
       "    <tr>\n",
       "      <th>23</th>\n",
       "      <td>0</td>\n",
       "      <td>0</td>\n",
       "    </tr>\n",
       "    <tr>\n",
       "      <th>24</th>\n",
<<<<<<< HEAD
       "      <td>1</td>\n",
       "      <td>1</td>\n",
=======
       "      <td>0</td>\n",
       "      <td>0</td>\n",
>>>>>>> 30ccfe63d468f39b78d6edfcd3e1345c71f295f3
       "    </tr>\n",
       "  </tbody>\n",
       "</table>\n",
       "</div>"
      ],
      "text/plain": [
<<<<<<< HEAD
       "    Actual  Prediction\n",
       "0        1           1\n",
       "1        0           0\n",
       "2        1           1\n",
       "3        1           1\n",
       "4        1           1\n",
       "5        0           0\n",
       "6        1           1\n",
       "7        1           1\n",
       "8        1           1\n",
       "9        0           0\n",
       "10       0           0\n",
       "11       1           1\n",
       "12       1           1\n",
       "13       0           0\n",
       "14       1           1\n",
       "15       0           0\n",
       "16       0           0\n",
       "17       0           0\n",
       "18       0           0\n",
       "19       0           0\n",
       "20       1           1\n",
       "21       1           1\n",
       "22       0           0\n",
       "23       0           0\n",
       "24       1           1"
=======
       "    Prediction  Actual\n",
       "0            1       1\n",
       "1            1       1\n",
       "2            0       0\n",
       "3            0       0\n",
       "4            0       0\n",
       "5            1       1\n",
       "6            1       1\n",
       "7            0       0\n",
       "8            1       1\n",
       "9            1       1\n",
       "10           0       0\n",
       "11           0       0\n",
       "12           0       0\n",
       "13           0       0\n",
       "14           0       0\n",
       "15           0       0\n",
       "16           0       0\n",
       "17           1       1\n",
       "18           1       1\n",
       "19           0       0\n",
       "20           0       0\n",
       "21           1       1\n",
       "22           1       1\n",
       "23           0       0\n",
       "24           0       0"
>>>>>>> 30ccfe63d468f39b78d6edfcd3e1345c71f295f3
      ]
     },
     "execution_count": 10,
     "metadata": {},
     "output_type": "execute_result"
    }
   ],
   "source": [
    "predictions = classifier.predict(X_test)\n",
    "pd.DataFrame({\"Prediction\": predictions, \"Actual\": y_test})"
   ]
  }
 ],
 "metadata": {
<<<<<<< HEAD
  "celltoolbar": "Slideshow",
=======
>>>>>>> 30ccfe63d468f39b78d6edfcd3e1345c71f295f3
  "kernelspec": {
   "display_name": "Python 3",
   "language": "python",
   "name": "python3"
  },
  "language_info": {
   "codemirror_mode": {
    "name": "ipython",
    "version": 3
   },
   "file_extension": ".py",
   "mimetype": "text/x-python",
   "name": "python",
   "nbconvert_exporter": "python",
   "pygments_lexer": "ipython3",
<<<<<<< HEAD
   "version": "3.7.4"
=======
   "version": "3.8.5"
>>>>>>> 30ccfe63d468f39b78d6edfcd3e1345c71f295f3
  },
  "varInspector": {
   "cols": {
    "lenName": 16,
    "lenType": 16,
    "lenVar": 40
   },
   "kernels_config": {
    "python": {
     "delete_cmd_postfix": "",
     "delete_cmd_prefix": "del ",
     "library": "var_list.py",
     "varRefreshCmd": "print(var_dic_list())"
    },
    "r": {
     "delete_cmd_postfix": ") ",
     "delete_cmd_prefix": "rm(",
     "library": "var_list.r",
     "varRefreshCmd": "cat(var_dic_list()) "
    }
   },
   "types_to_exclude": [
    "module",
    "function",
    "builtin_function_or_method",
    "instance",
    "_Feature"
   ],
   "window_display": false
  }
 },
 "nbformat": 4,
 "nbformat_minor": 2
<<<<<<< HEAD
}
=======
}
>>>>>>> 30ccfe63d468f39b78d6edfcd3e1345c71f295f3
